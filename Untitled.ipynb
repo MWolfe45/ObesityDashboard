{
 "cells": [
  {
   "cell_type": "code",
   "execution_count": 10,
   "id": "55aada2d-1cb7-4c54-808a-c8a73bdb3bf7",
   "metadata": {},
   "outputs": [],
   "source": [
    "import pandas as pd\n",
    "from constants import obesity_df"
   ]
  },
  {
   "cell_type": "code",
   "execution_count": 15,
   "id": "a6929817-496f-4c8c-96c0-9d2d05fecfd9",
   "metadata": {},
   "outputs": [
    {
     "data": {
      "text/plain": [
       "Index(['fips', 'state', 'county', 'grocery_per1000', 'super_per1000',\n",
       "       'convenience_per1000', 'specialty_per1000', 'snap_available_per1000',\n",
       "       'obesity_rate', 'farmers_markets_per1000', 'pct_fm_accepting_snap',\n",
       "       'pct_fm_accept_wic', 'pct_fm_credit', 'fm_sell_frveg',\n",
       "       'pct_fm_sell_frveg', 'region', 'fi_rate', 'child_fi_rate',\n",
       "       'cost_per_meal', 'est_annual_food_budget_shortfall',\n",
       "       'school_lunch_prog_17', 'school_bfast_prog_17', 'smr_food_prog_17',\n",
       "       'wic_parts_pop_17', 'fast_food_per1000', 'full_service_per1000',\n",
       "       'pop_estimate', 'percent_white', 'percent_black',\n",
       "       'percent_native_american', 'percent_asian', 'percent_nhpi',\n",
       "       'percent_multi', 'percent_nonwhite_hispanic', 'median_household_income',\n",
       "       'obesity_category', 'class_category', 'healthy_access_score',\n",
       "       'healthy_access_category', 'percent_other', 'percent_no_car',\n",
       "       'total_unemployment_rate_over_16', 'some_college_rate', 'food_dessert'],\n",
       "      dtype='object')"
      ]
     },
     "execution_count": 15,
     "metadata": {},
     "output_type": "execute_result"
    }
   ],
   "source": [
    "new_df = obesity_df.copy()\n",
    "new_df.columns"
   ]
  }
 ],
 "metadata": {
  "kernelspec": {
   "display_name": "Python 3",
   "language": "python",
   "name": "python3"
  },
  "language_info": {
   "codemirror_mode": {
    "name": "ipython",
    "version": 3
   },
   "file_extension": ".py",
   "mimetype": "text/x-python",
   "name": "python",
   "nbconvert_exporter": "python",
   "pygments_lexer": "ipython3",
   "version": "3.7.3"
  }
 },
 "nbformat": 4,
 "nbformat_minor": 5
}
